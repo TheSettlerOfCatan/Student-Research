{
 "cells": [
  {
   "cell_type": "code",
   "execution_count": 4,
   "metadata": {
    "collapsed": true
   },
   "outputs": [],
   "source": [
    "import numpy as np\n",
    "import matplotlib.pyplot as plt\n",
    "# from matplotlib import cm\n",
    "# from mpl_toolkits.mplot3d import Axes3D\n",
    "# fig = plt.figure()\n",
    "# ax = fig.add_subplot(111, projection='3d')"
   ]
  },
  {
   "cell_type": "code",
   "execution_count": 5,
   "metadata": {},
   "outputs": [
    {
     "ename": "NameError",
     "evalue": "name 'Axes3D' is not defined",
     "output_type": "error",
     "traceback": [
      "\u001b[0;31m---------------------------------------------------------------------------\u001b[0m",
      "\u001b[0;31mNameError\u001b[0m                                 Traceback (most recent call last)",
      "\u001b[0;32m<ipython-input-5-8ce30ae62698>\u001b[0m in \u001b[0;36m<module>\u001b[0;34m()\u001b[0m\n\u001b[1;32m     27\u001b[0m \u001b[0mz\u001b[0m \u001b[0;34m=\u001b[0m \u001b[0mnp\u001b[0m\u001b[0;34m.\u001b[0m\u001b[0msin\u001b[0m\u001b[0;34m(\u001b[0m\u001b[0mxx\u001b[0m\u001b[0;34m*\u001b[0m\u001b[0;36m5\u001b[0m \u001b[0;34m+\u001b[0m \u001b[0myy\u001b[0m\u001b[0;34m*\u001b[0m\u001b[0;36m5\u001b[0m\u001b[0;34m)\u001b[0m\u001b[0;34m\u001b[0m\u001b[0m\n\u001b[1;32m     28\u001b[0m \u001b[0mfig\u001b[0m \u001b[0;34m=\u001b[0m \u001b[0mplt\u001b[0m\u001b[0;34m.\u001b[0m\u001b[0mfigure\u001b[0m\u001b[0;34m(\u001b[0m\u001b[0mfigsize\u001b[0m\u001b[0;34m=\u001b[0m\u001b[0;34m(\u001b[0m\u001b[0;36m10\u001b[0m\u001b[0;34m,\u001b[0m\u001b[0;36m8\u001b[0m\u001b[0;34m)\u001b[0m\u001b[0;34m)\u001b[0m\u001b[0;34m\u001b[0m\u001b[0m\n\u001b[0;32m---> 29\u001b[0;31m \u001b[0max\u001b[0m \u001b[0;34m=\u001b[0m \u001b[0mAxes3D\u001b[0m\u001b[0;34m(\u001b[0m\u001b[0mfig\u001b[0m\u001b[0;34m)\u001b[0m\u001b[0;34m\u001b[0m\u001b[0m\n\u001b[0m\u001b[1;32m     30\u001b[0m \u001b[0max\u001b[0m\u001b[0;34m.\u001b[0m\u001b[0mplot_surface\u001b[0m\u001b[0;34m(\u001b[0m\u001b[0mxx\u001b[0m\u001b[0;34m,\u001b[0m\u001b[0myy\u001b[0m\u001b[0;34m,\u001b[0m\u001b[0mz\u001b[0m\u001b[0;34m,\u001b[0m \u001b[0mrstride\u001b[0m\u001b[0;34m=\u001b[0m\u001b[0;36m1\u001b[0m\u001b[0;34m,\u001b[0m \u001b[0mcstride\u001b[0m\u001b[0;34m=\u001b[0m\u001b[0;36m1\u001b[0m\u001b[0;34m,\u001b[0m \u001b[0mcmap\u001b[0m\u001b[0;34m=\u001b[0m\u001b[0mcm\u001b[0m\u001b[0;34m.\u001b[0m\u001b[0mviridis\u001b[0m\u001b[0;34m)\u001b[0m\u001b[0;34m\u001b[0m\u001b[0m\n\u001b[1;32m     31\u001b[0m \u001b[0;31m# plt.contourf(x,y,z)\u001b[0m\u001b[0;34m\u001b[0m\u001b[0;34m\u001b[0m\u001b[0m\n",
      "\u001b[0;31mNameError\u001b[0m: name 'Axes3D' is not defined"
     ]
    }
   ],
   "source": [
    "x = np.arange(-15,20,.4)\n",
    "y = x*(np.random.rand(np.size(x)) - .5)\n",
    "z = np.sin(x) +np.cos(y)\n",
    "\n",
    "# plt.subplots(figsize=(16,8))\n",
    "# plt.subplot(2,2,1)\n",
    "# plt.plot(x,y)\n",
    "\n",
    "# plt.subplot(2,2,2)\n",
    "# plt.plot(x,z)\n",
    "\n",
    "# plt.subplot(2,2,3)\n",
    "# plt.plot(y,z)\n",
    "# plt.show()\n",
    "\n",
    "# xx, yy = np.meshgrid(x,y)\n",
    "\n",
    "# f = ax.plot_surface(x,y,xx, cmap = cm.jet)\n",
    "# plt.show(f)\n",
    "\n",
    "\n",
    "# print(xx, '\\n\\n', yy)\n",
    "\n",
    "x = np.arange(0,2*np.pi,.1)\n",
    "y = x\n",
    "xx, yy = np.meshgrid(x,y)\n",
    "z = np.sin(xx*5 + yy*5)\n",
    "fig = plt.figure(figsize=(10,8))\n",
    "ax = Axes3D(fig)\n",
    "ax.plot_surface(xx,yy,z, rstride=1, cstride=1, cmap=cm.viridis)\n",
    "# plt.contourf(x,y,z)\n",
    "plt.show()\n",
    "# print(xx, '\\n\\n', yy)\n",
    "xx, yy"
   ]
  },
  {
   "cell_type": "code",
   "execution_count": 6,
   "metadata": {
    "collapsed": true
   },
   "outputs": [],
   "source": [
    "def fourier_transform_2D(function):\n",
    "    \n",
    "    Nrow = np.size(Z, 0) # num rows\n",
    "    Ncol = np.size(Z, 1) # num columns\n",
    "    xr = np.arange(0,Nrow,1)\n",
    "    xc = np.arange(0,Ncol,1)\n",
    "    first_transform = np.empty(np.shape(function), dtype=np.complex)\n",
    "    second_transform = np.empty(np.shape(function), dtype=np.complex)\n",
    "\n",
    "    for i in range(0,Nrow):\n",
    "        for n in range(0,Ncol):\n",
    "            integrand = function[i,:]*np.exp(n*(-1j)*xc*2*np.pi/Ncol)\n",
    "            first_transform[i,n] = sum(integrand)\n",
    "    for i in range(0,Ncol):\n",
    "        for n in range(0,Nrow):\n",
    "            integrand = first_transform[:,i]*np.exp(n*(-1j)*xr*2*np.pi/Nrow)\n",
    "            second_transform[n,i] = sum(integrand)\n",
    "    \n",
    "    return second_transform"
   ]
  },
  {
   "cell_type": "code",
   "execution_count": 7,
   "metadata": {
    "collapsed": true,
    "scrolled": false
   },
   "outputs": [],
   "source": [
    "def fourier_transform_frequencies(size_of_function, smaple_rate):\n",
    "    \n",
    "    N = size_of_function\n",
    "    kvalues = np.empty(N)\n",
    "    \n",
    "    if N % 2 == 0:\n",
    "        kvaluesoriginal = np.linspace(-N/2,(N/2)-1,N)/(sample_rate*N)\n",
    "    else:\n",
    "        kvaluesoriginal = np.linspace(-(N-1)/2,(N-1)/2,N)/(sample_rate*N)\n",
    "    newN = int(N/2)\n",
    "    if N % 2 == 0:\n",
    "        kvalues[0:newN] = kvaluesoriginal[newN:N]\n",
    "        kvalues[newN:N] = kvaluesoriginal[0:newN]\n",
    "    if N % 2 != 0:\n",
    "        kvalues[0:newN+1] = kvaluesoriginal[newN:N]\n",
    "        kvalues[newN+1:N] = kvaluesoriginal[0:newN]\n",
    "        \n",
    "    return kvalues"
   ]
  },
  {
   "cell_type": "code",
   "execution_count": 48,
   "metadata": {
    "collapsed": true
   },
   "outputs": [],
   "source": [
    "def inverse_fourier_transform(complex_coefficients):\n",
    "\n",
    "#     N = np.size(complex_coefficients)\n",
    "#     x = np.arange(0,N,1)\n",
    "    ifft_piece = np.empty(np.shape(complex_coefficients))\n",
    "    second_ifft_piece = np.empty(np.shape(complex_coefficients))\n",
    "    first_ifft_of_f = 0 + 0*1j\n",
    "    second_ifft_of_f = 0 + 0*1j\n",
    "    \n",
    "    Nrow = np.size(complex_coefficients, 0) # num rows\n",
    "    Ncol = np.size(complex_coefficients, 1) # num columns\n",
    "    xr = np.arange(0,Nrow,1)\n",
    "    xc = np.arange(0,Ncol,1)\n",
    "    \n",
    "    for i in range(0,Nrow):\n",
    "        for n in range(0,Ncol):\n",
    "            ifft_piece = complex_coefficients[i,n]*np.exp(n*(1j)*xc*2*np.pi/Ncol)\n",
    "            first_ifft_of_f += ifft_piece\n",
    "#             integrand = function[i,:]*np.exp(n*(-1j)*xc*2*np.pi/Ncol)\n",
    "#             first_transform[i,n] = sum(integrand)\n",
    "    for i in range(0,Ncol):\n",
    "        for n in range(0,Nrow):\n",
    "            second_ifft_piece = first_ifft_of_f[n,i]*np.exp(n*(1j)*2*xr*np.pi/Nrow)\n",
    "            second_ifft_of_f += second_ifft_piece\n",
    "#             integrand = first_transform[:,i]*np.exp(n*(-1j)*xr*2*np.pi/Nrow)\n",
    "#             second_transform[n,i] = sum(integrand)\n",
    "    \n",
    "#     for n in range(0,N):\n",
    "#         ifft_piece = complex_coefficients[n]*np.exp(n*1j*x*2*np.pi/N)\n",
    "#         ifft_of_f += ifft_piece/N\n",
    "    \n",
    "    return second_ifft_of_f"
   ]
  },
  {
   "cell_type": "code",
   "execution_count": 114,
   "metadata": {},
   "outputs": [
    {
     "name": "stdout",
     "output_type": "stream",
     "text": [
      "Zf\n",
      " [[-0.14902235+0.j          0.24248160+0.13384753j  0.02400583+0.j\n",
      "   0.24248160-0.13384753j]\n",
      " [ 0.36783263+1.24067857j -0.39026942+1.03243609j -1.00673896+0.34717142j\n",
      "  -5.09444174-2.59448479j]\n",
      " [ 0.36783263-1.24067857j -5.09444174+2.59448479j -1.00673896-0.34717142j\n",
      "  -0.39026942-1.03243609j]] \n",
      "\n",
      "\n",
      "Ztransformed\n",
      " [[-0.14902235 +0.00000000e+00j  0.24248160 +1.33847528e-01j\n",
      "   0.02400583 -3.25522396e-17j  0.24248160 -1.33847528e-01j]\n",
      " [ 0.36783263 +1.24067857e+00j -0.39026942 +1.03243609e+00j\n",
      "  -1.00673896 +3.47171423e-01j -5.09444174 -2.59448479e+00j]\n",
      " [ 0.36783263 -1.24067857e+00j -5.09444174 +2.59448479e+00j\n",
      "  -1.00673896 -3.47171423e-01j -0.39026942 -1.03243609e+00j]]\n",
      "\n",
      "\n",
      "\n",
      "Z shape\n",
      " (3, 4) \n",
      "\n",
      "\n",
      "Z transformed shape\n",
      " (3, 4)\n"
     ]
    }
   ],
   "source": [
    "sample_rate = 1\n",
    "x = np.arange(-2,2,sample_rate)\n",
    "y = np.arange(-2,1,sample_rate)\n",
    "X, Y = np.meshgrid(x,y)\n",
    "Z = np.sin(X*5 + Y*2)\n",
    "Zf = np.fft.fft2(Z)\n",
    "iZf = np.fft.ifft2(Zf)\n",
    "\n",
    "# p = [[1,2,3,4],[5,6,7,8],[9,10,11,12]]\n",
    "# kvalues = fourier_transform_frequencies(np.size(Z), sample_rate)\n",
    "Ztransformed = fourier_transform_2D(Z)\n",
    "\n",
    "\n",
    "# for i in range(0,Nrow):\n",
    "#     Zfirst[i,:] = fourier_transform(Z[i,:])\n",
    "# for i in range(0,Ncol):\n",
    "#     Zffinal[:,i] = fourier_transform(Zfirst[:,i])\n",
    "\n",
    "\n",
    "print('Zf\\n', (Zf), '\\n\\n\\nZtransformed\\n', Ztransformed)\n",
    "print('\\n\\n\\nZ shape\\n',Z.shape,'\\n\\n\\nZ transformed shape\\n',Zf.shape)"
   ]
  },
  {
   "cell_type": "code",
   "execution_count": 115,
   "metadata": {},
   "outputs": [
    {
     "data": {
      "image/png": "[encoded data removed]",
      "text/plain": [
       "<matplotlib.figure.Figure at 0x7f3589b09898>"
      ]
     },
     "metadata": {},
     "output_type": "display_data"
    }
   ],
   "source": [
    "plt.subplots(figsize=(13,30))\n",
    "plt.subplot(6,2,1)\n",
    "plt.title('Original function', fontsize=15)\n",
    "# plt.contourf(Z)\n",
    "plt.imshow(Z)\n",
    "\n",
    "plt.subplot(6,2,3)\n",
    "plt.title('built-in imag values', fontsize=15)\n",
    "plt.imshow(Zf.imag)\n",
    "\n",
    "plt.subplot(6,2,5)\n",
    "plt.title('built-in real values', fontsize=15)\n",
    "plt.imshow(Zf.real)\n",
    "\n",
    "plt.subplot(6,2,7)\n",
    "plt.title('built-in intensity', fontsize=15)\n",
    "plt.ylabel('logarithmic', fontsize=15)\n",
    "plt.imshow(np.log(np.abs(np.fft.fftshift(Zf))**2))\n",
    "\n",
    "# plt.subplot(6,2,9)\n",
    "# plt.title('built-in phase', fontsize=15)\n",
    "# plt.plot(k,np.angle(y_fft))\n",
    "\n",
    "plt.subplot(6,2,11)\n",
    "plt.title('built-in inverse transform', fontsize=15)\n",
    "# plt.contourf(iZf.real)\n",
    "plt.imshow(iZf.real)\n",
    "\n",
    "\n",
    "\n",
    "plt.subplot(6,2,2)\n",
    "plt.title('Original function', fontsize=15)\n",
    "# plt.contourf(Z)\n",
    "plt.imshow(Z)\n",
    "\n",
    "plt.subplot(6,2,4)\n",
    "plt.title('my imag values', fontsize=15)\n",
    "plt.imshow(Ztransformed.imag)\n",
    "\n",
    "plt.subplot(6,2,6)\n",
    "plt.title('my real values', fontsize=15)\n",
    "plt.imshow(Ztransformed.real)\n",
    "\n",
    "plt.subplot(6,2,8)\n",
    "plt.title('my intensity values', fontsize=15)\n",
    "plt.ylabel('logarithmic', fontsize=15)\n",
    "plt.imshow(np.log(np.abs(np.fft.fftshift(Ztransformed))**2))\n",
    "\n",
    "# plt.subplot(6,2,10)\n",
    "# plt.title('my phase', fontsize=15)\n",
    "# plt.plot(ky,np.angle(y2_coefficients))\n",
    "\n",
    "# plt.subplot(6,2,12)\n",
    "# plt.title('my inverse transform', fontsize=15)\n",
    "# plt.plot(x,y2_inverse)\n",
    "plt.show()"
   ]
  },
  {
   "cell_type": "code",
   "execution_count": 58,
   "metadata": {},
   "outputs": [
    {
     "name": "stdout",
     "output_type": "stream",
     "text": [
      "[[-0.99060736 -0.41211849  0.7568025   0.84147098]\n",
      " [ 0.53657292 -0.6569866  -0.90929743  0.14112001]\n",
      " [ 0.54402111  0.95892427  0.         -0.95892427]] \n",
      "\n",
      "\n",
      " [ 0.19554764 -0.8885911   0.54402111]\n"
     ]
    }
   ],
   "source": [
    "print(Z, '\\n\\n\\n', np.sum(Z,axis=1))"
   ]
  },
  {
   "cell_type": "code",
   "execution_count": 147,
   "metadata": {},
   "outputs": [],
   "source": [
    "complex_coefficients = Zf\n",
    "ifft_piece = np.empty(np.shape(complex_coefficients))\n",
    "second_ifft_piece = np.empty(np.shape(complex_coefficients))\n",
    "first_ifft_of_f = np.empty(np.shape(complex_coefficients), dtype=np.complex)\n",
    "second_ifft_of_f = np.empty(np.shape(complex_coefficients), dtype=np.complex)\n",
    "\n",
    "Nrow = np.size(complex_coefficients, 0) # num rows\n",
    "Ncol = np.size(complex_coefficients, 1) # num columns\n",
    "xr = np.arange(0,Nrow,1)\n",
    "xc = np.arange(0,Ncol,1)\n",
    "xr = np.reshape(xr,(Nrow,1))\n",
    "\n",
    "for i in range(0,Nrow):\n",
    "    for n in range(0,Ncol):\n",
    "        ifft_piece = (1/(Ncol*Nrow))*complex_coefficients[i,n]*np.exp(n*1j*xc*2*np.pi/Ncol)#2*np.pi*(i*xr/Nrow + n*xc/Ncol)\n",
    "        first_ifft_of_f[i,n] = sum(ifft_piece)\n",
    "for i in range(0,Ncol):\n",
    "    for n in range(0,Nrow):\n",
    "        ifft_piece = (1/(Ncol*Nrow))*first_ifft_of_f[n,i]*np.exp(n*1j*xr*2*np.pi/Nrow)#(1j)*xr*xc*2*np.pi/(Ncol*Nrow)\n",
    "        second_ifft_of_f[n,i] = sum(ifft_piece)\n",
    "        \n",
    "#         ifft_piece = (1/(Ncol*Nrow))*first_ifft_of_f[n,i]*np.exp((1j)*xr*xc*2*np.pi/(Ncol*Nrow))#n*i*(1j)*xr*xc*2*np.pi/(Ncol*Nrow)\n",
    "#         second_ifft_of_f += ifft_piece\n",
    "\n",
    "# #             integrand = function[i,:]*np.exp(n*(-1j)*xc*2*np.pi/Ncol)\n",
    "#             first_transform[i,n] = sum(integrand)\n",
    "# for i in range(0,Ncol):\n",
    "#     for n in range(0,Nrow):\n",
    "#         second_ifft_piece = first_ifft_of_f[n,i]*np.exp(n*(1j)*2*xr*np.pi/Nrow)\n",
    "#         second_ifft_of_f += second_ifft_piece\n",
    "        \n"
   ]
  },
  {
   "cell_type": "code",
   "execution_count": 148,
   "metadata": {},
   "outputs": [
    {
     "name": "stdout",
     "output_type": "stream",
     "text": [
      "[0 1 2 3] \n",
      "\n",
      "\n",
      " [[0]\n",
      " [1]\n",
      " [2]] \n",
      "\n",
      "\n",
      " [[0 0 0 0]\n",
      " [0 1 2 3]\n",
      " [0 2 4 6]]\n",
      "\n",
      "\n",
      "\n",
      " [[0 1 2 3]\n",
      " [0 1 2 3]\n",
      " [0 1 2 3]] \n",
      "\n",
      "\n",
      " [[0 0 0 0]\n",
      " [1 1 1 1]\n",
      " [2 2 2 2]] \n",
      "\n",
      "\n",
      " [[0 0 0 0]\n",
      " [0 1 2 3]\n",
      " [0 2 4 6]]\n"
     ]
    }
   ],
   "source": [
    "print(xc,'\\n\\n\\n',xr,'\\n\\n\\n',xc*xr)\n",
    "XC, XR = np.meshgrid(xc,xr)\n",
    "print('\\n\\n\\n',XC,'\\n\\n\\n',XR,'\\n\\n\\n',XC*XR)"
   ]
  },
  {
   "cell_type": "code",
   "execution_count": 149,
   "metadata": {
    "scrolled": false
   },
   "outputs": [
    {
     "name": "stdout",
     "output_type": "stream",
     "text": [
      "iZf\n",
      " [[ -9.90607356e-01+0.j  -4.12118485e-01+0.j   7.56802495e-01+0.j\n",
      "    8.41470985e-01+0.j]\n",
      " [  5.36572918e-01+0.j  -6.56986599e-01+0.j  -9.09297427e-01+0.j\n",
      "    1.41120008e-01+0.j]\n",
      " [  5.44021111e-01+0.j   9.58924275e-01+0.j   4.44089210e-16+0.j\n",
      "   -9.58924275e-01+0.j]] \n",
      "\n",
      "\n",
      "first_ifft_of_f\n",
      " [[ -4.96741165e-02 +0.00000000e+00j  -1.73472348e-18 -3.46944695e-18j\n",
      "    0.00000000e+00 +4.89977771e-19j   1.04083409e-17 +0.00000000e+00j]\n",
      " [  1.22610878e-01 +4.13559523e-01j   0.00000000e+00 -6.93889390e-18j\n",
      "    0.00000000e+00 -2.08166817e-17j  -1.11022302e-16 -2.22044605e-16j]\n",
      " [  1.22610878e-01 -4.13559523e-01j   2.77555756e-17 -1.11022302e-16j\n",
      "    0.00000000e+00 -2.08166817e-17j   2.77555756e-17 -4.85722573e-17j]] \n",
      "\n",
      "\n",
      "second_ifft_of_f\n",
      " [[ -1.24185291e-02 +0.00000000e+00j  -4.33680869e-19 -8.67361738e-19j\n",
      "    0.00000000e+00 +1.22494443e-19j   2.60208521e-18 +0.00000000e+00j]\n",
      " [ -1.38777878e-17 -3.46944695e-18j   1.92592994e-34 +9.62964972e-35j\n",
      "    5.77778983e-34 +3.85185989e-34j   6.16297582e-33 +0.00000000e+00j]\n",
      " [  3.46944695e-17 -6.93889390e-18j   8.47409176e-33 -7.70371978e-34j\n",
      "    1.34815096e-33 -5.77778983e-34j   3.46667390e-33 +0.00000000e+00j]]\n"
     ]
    }
   ],
   "source": [
    "print('iZf\\n',iZf,'\\n\\n\\nfirst_ifft_of_f\\n', first_ifft_of_f,'\\n\\n\\nsecond_ifft_of_f\\n', second_ifft_of_f)"
   ]
  },
  {
   "cell_type": "code",
   "execution_count": null,
   "metadata": {
    "collapsed": true
   },
   "outputs": [],
   "source": []
  },
  {
   "cell_type": "code",
   "execution_count": null,
   "metadata": {
    "collapsed": true
   },
   "outputs": [],
   "source": []
  }
 ],
 "metadata": {
  "kernelspec": {
   "display_name": "Python 3",
   "language": "python",
   "name": "python3"
  },
  "language_info": {
   "codemirror_mode": {
    "name": "ipython",
    "version": 3
   },
   "file_extension": ".py",
   "mimetype": "text/x-python",
   "name": "python",
   "nbconvert_exporter": "python",
   "pygments_lexer": "ipython3",
   "version": "3.6.3"
  }
 },
 "nbformat": 4,
 "nbformat_minor": 2
}
