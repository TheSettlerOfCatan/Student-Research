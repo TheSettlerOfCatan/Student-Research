{
 "cells": [
  {
   "cell_type": "code",
   "execution_count": 1,
   "metadata": {
    "collapsed": true
   },
   "outputs": [
    {
     "ename": "SyntaxError",
     "evalue": "unexpected EOF while parsing (<ipython-input-1-daddf652d10e>, line 17)",
     "output_type": "error",
     "traceback": [
      "\u001b[0;36m  File \u001b[0;32m\"<ipython-input-1-daddf652d10e>\"\u001b[0;36m, line \u001b[0;32m17\u001b[0m\n\u001b[0;31m    \u001b[0m\n\u001b[0m    ^\u001b[0m\n\u001b[0;31mSyntaxError\u001b[0m\u001b[0;31m:\u001b[0m unexpected EOF while parsing\n"
     ]
    }
   ],
   "source": [
    "import numpy as np\n",
    "import matplotlib.pyplot as plt\n",
    "\n",
    "def WaterFinalT():\n",
    "    #CONSTANTS\n",
    "    \n",
    "    \n",
    "    if (T1 < Tf):\n",
    "        print(\"The initial temperature cannot be below freezing!\")\n",
    "    else:\n",
    "        if ():\n",
    "            T2 - T1 + E / m / Cp_w\n",
    "        elif ():\n",
    "            \n",
    "        \n",
    "\n",
    "\n"
   ]
  },
  {
   "cell_type": "code",
   "execution_count": 56,
   "metadata": {},
   "outputs": [
    {
     "name": "stdout",
     "output_type": "stream",
     "text": [
      "  100. Fib =    3.54225e+20, GR =  1.61803\n",
      "  200. Fib =    2.80571e+41, GR =  1.61803\n",
      "  300. Fib =    2.22232e+62, GR =  1.61803\n",
      "  400. Fib =    1.76024e+83, GR =  1.61803\n",
      "  500. Fib =   1.39423e+104, GR =  1.61803\n",
      "  600. Fib =   1.10433e+125, GR =  1.61803\n",
      "  700. Fib =   8.74708e+145, GR =  1.61803\n",
      "  800. Fib =   6.92831e+166, GR =  1.61803\n",
      "  900. Fib =   5.48771e+187, GR =  1.61803\n",
      " 1000. Fib =   4.34666e+208, GR =  1.61803\n"
     ]
    }
   ],
   "source": [
    "x1 = 1\n",
    "x2 = 1\n",
    "n = 1\n",
    "for i in range(3,1002,2):\n",
    "    x1 = x1 + x2\n",
    "    x2 = x1 + x2\n",
    "    \n",
    "    if ((i + 1) % 100) == 0:\n",
    "        print ((str(i+1)+'.').rjust(6), \"Fib =  \", \n",
    "               (str.format('{0:.5e}', x2)+',').rjust(13), \n",
    "               \"GR = \", '%.5f' % (x2/x1))"
   ]
  },
  {
   "cell_type": "code",
   "execution_count": null,
   "metadata": {
    "collapsed": true
   },
   "outputs": [],
   "source": []
  }
 ],
 "metadata": {
  "kernelspec": {
   "display_name": "Python 3",
   "language": "python",
   "name": "python3"
  },
  "language_info": {
   "codemirror_mode": {
    "name": "ipython",
    "version": 3
   },
   "file_extension": ".py",
   "mimetype": "text/x-python",
   "name": "python",
   "nbconvert_exporter": "python",
   "pygments_lexer": "ipython3",
   "version": "3.6.3"
  }
 },
 "nbformat": 4,
 "nbformat_minor": 2
}
