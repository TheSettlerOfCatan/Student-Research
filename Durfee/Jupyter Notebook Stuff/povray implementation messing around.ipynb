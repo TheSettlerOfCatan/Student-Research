{
 "cells": [
  {
   "cell_type": "code",
   "execution_count": 1,
   "metadata": {
    "collapsed": true
   },
   "outputs": [],
   "source": [
    "import numpy as np\n",
    "import matplotlib.pyplot as plt\n",
    "import matplotlib.image as mpimg\n",
    "import fileinput\n",
    "import sys\n",
    "import subprocess"
   ]
  },
  {
   "cell_type": "code",
   "execution_count": 202,
   "metadata": {
    "scrolled": false
   },
   "outputs": [
    {
     "data": {
      "text/plain": [
       "<subprocess.Popen at 0x7f55903b52e8>"
      ]
     },
     "execution_count": 202,
     "metadata": {},
     "output_type": "execute_result"
    }
   ],
   "source": [
    "## My original way: change the text file w/ python and then run through the terminal.\n",
    "\n",
    "theta = 60*np.pi/180\n",
    "phi = 60*np.pi/180\n",
    "for line in fileinput.input(\"/home/carter/test.pov\", inplace=1):\n",
    "    if \"light_source\" in line:\n",
    "        \n",
    "        start = line.find( '<' )\n",
    "        end = line.find( '>' )\n",
    "        if start != -1 and end != -1:\n",
    "            result = line[start+1:end]\n",
    "        line = line.replace(result,str(((-1)**fileinput.lineno())*np.cos(theta)*np.sin(phi))+\",\"+str(np.cos(phi))+\",\"+str(((-1)**fileinput.lineno())*np.sin(theta)*np.sin(phi)))\n",
    "    sys.stdout.write(line)\n",
    "\n",
    "subprocess.Popen([\"povray +Itest.pov Height=800 Width=600\"],shell=True)\n"
   ]
  },
  {
   "cell_type": "code",
   "execution_count": 24,
   "metadata": {},
   "outputs": [
    {
     "name": "stdout",
     "output_type": "stream",
     "text": [
      "208 ms ± 63.5 ms per loop (mean ± std. dev. of 7 runs, 1 loop each)\n"
     ]
    }
   ],
   "source": [
    "## New way: change text file and run it all through the terminal.\n",
    "\n",
    "theta = 60*np.pi/180\n",
    "phi = 60*np.pi/180\n",
    "\n",
    "lightx = np.cos(theta)*np.sin(phi)*100000\n",
    "lighty = np.cos(phi)*100000\n",
    "lightz = np.sin(theta)*np.sin(phi)*100000\n",
    "Options1 = \" Declare=light1x=\"+str(lightx)+\" Declare=light1y=\"+str(lighty)+\" Declare=light1z=\"+str(lightz)\n",
    "Options2 = \" Declare=light2x=\"+str(-lightx)+\" Declare=light2y=\"+str(lighty)+\" Declare=light2z=\"+str(-lightz)\n",
    "\n",
    "subprocess.Popen([\"povray +Itest2.pov +H800 +W600\"+Options1+Options2],shell=True)\n",
    "\n"
   ]
  },
  {
   "cell_type": "code",
   "execution_count": 230,
   "metadata": {
    "scrolled": false
   },
   "outputs": [
    {
     "data": {
      "image/png": "[encoded data removed]",
      "text/plain": [
       "<matplotlib.figure.Figure at 0x7f5590430b38>"
      ]
     },
     "metadata": {},
     "output_type": "display_data"
    },
    {
     "data": {
      "text/plain": [
       "(800, 600, 3)"
      ]
     },
     "execution_count": 230,
     "metadata": {},
     "output_type": "execute_result"
    }
   ],
   "source": [
    "image = mpimg.imread(\"/home/carter/test.png\")\n",
    "gimg = np.dot(image, [0.2989, 0.5870, 0.1140])\n",
    "mytrutharray = (gimg[int(np.shape(gimg)[0]/2)-1][int(np.shape(gimg)[1]/2)-1] < gimg) & (gimg < gimg[0][0])\n",
    "image[mytrutharray] = 0\n",
    "image[np.logical_not(mytrutharray)] = 1\n",
    "\n",
    "\n",
    "fig1 = plt.figure(figsize = (8,8))\n",
    "plt.imshow(image)\n",
    "plt.show()\n",
    "plt.close(fig1)\n",
    "\n",
    "# print(image,\"\\n\\n\",gimg)\n",
    "np.shape(image)"
   ]
  },
  {
   "cell_type": "code",
   "execution_count": null,
   "metadata": {
    "collapsed": true
   },
   "outputs": [],
   "source": [
    "# subprocess.Popen([\"povray +Itest.pov Height=800 Width=600\"],shell=True)"
   ]
  },
  {
   "cell_type": "code",
   "execution_count": null,
   "metadata": {
    "collapsed": true
   },
   "outputs": [],
   "source": []
  }
 ],
 "metadata": {
  "kernelspec": {
   "display_name": "Python 3",
   "language": "python",
   "name": "python3"
  },
  "language_info": {
   "codemirror_mode": {
    "name": "ipython",
    "version": 3
   },
   "file_extension": ".py",
   "mimetype": "text/x-python",
   "name": "python",
   "nbconvert_exporter": "python",
   "pygments_lexer": "ipython3",
   "version": "3.6.3"
  }
 },
 "nbformat": 4,
 "nbformat_minor": 2
}
