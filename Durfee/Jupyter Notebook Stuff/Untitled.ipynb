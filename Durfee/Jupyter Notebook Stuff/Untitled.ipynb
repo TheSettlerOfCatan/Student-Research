{
 "cells": [
  {
   "cell_type": "code",
   "execution_count": 8,
   "metadata": {
    "collapsed": true
   },
   "outputs": [],
   "source": [
    "import numpy as np"
   ]
  },
  {
   "cell_type": "code",
   "execution_count": 3,
   "metadata": {},
   "outputs": [
    {
     "data": {
      "text/plain": [
       "3.6367777357190715e-30"
      ]
     },
     "execution_count": 3,
     "metadata": {},
     "output_type": "execute_result"
    }
   ],
   "source": [
    "h = 6.62607004e-34\n",
    "hbar = h/(2*np.pi)\n",
    "n = 1\n",
    "m = 6.644657230e-27\n",
    "L = 35e-15\n",
    "a = L\n",
    "JtoeV = 1.6021766208e-19\n",
    "C = 5#000*JtoeV\n",
    "t = (5e21)*360*24\n",
    "H = 2*(hbar**4)*(n**4)*(np.pi**4)/(4*(m**2)*(C**2)*(a**5))\n",
    "P = H*L - (H*a/(2*n*np.pi))*np.sin(2*n*np.pi*L/a)\n",
    "P"
   ]
  },
  {
   "cell_type": "code",
   "execution_count": 4,
   "metadata": {},
   "outputs": [
    {
     "data": {
      "text/plain": [
       "0.0001571087981830639"
      ]
     },
     "execution_count": 4,
     "metadata": {},
     "output_type": "execute_result"
    }
   ],
   "source": []
  },
  {
   "cell_type": "code",
   "execution_count": 16,
   "metadata": {},
   "outputs": [
    {
     "data": {
      "text/plain": [
       "1.8034979569937236e-30"
      ]
     },
     "execution_count": 16,
     "metadata": {},
     "output_type": "execute_result"
    }
   ],
   "source": [
    "c = 3e8\n",
    "h = 6.62607004e-34\n",
    "hbar = h/(2*np.pi)\n",
    "m = 6.644657230e-27\n",
    "L = 35e-15\n",
    "a = L\n",
    "JtoeV = 1.6021766208e-19\n",
    "energy = 5000000\n",
    "energyJ = energy*JtoeV\n",
    "p = np.exp(-2*L*np.sqrt(2*m*energyJ)/hbar)\n",
    "p"
   ]
  },
  {
   "cell_type": "code",
   "execution_count": 6,
   "metadata": {},
   "outputs": [
    {
     "data": {
      "text/plain": [
       "-171103217.92567852"
      ]
     },
     "execution_count": 6,
     "metadata": {},
     "output_type": "execute_result"
    }
   ],
   "source": [
    "-2*L*np.sqrt(2*m*C)/hbar"
   ]
  },
  {
   "cell_type": "code",
   "execution_count": 7,
   "metadata": {},
   "outputs": [
    {
     "data": {
      "text/plain": [
       "1.6163783993975866e-30"
      ]
     },
     "execution_count": 7,
     "metadata": {},
     "output_type": "execute_result"
    }
   ],
   "source": [
    "h = 6.62607004e-34\n",
    "hbar = 197\n",
    "m = 3726.93\n",
    "L = 35\n",
    "a = L\n",
    "JtoeV = 1.6021766208e-19\n",
    "energy = 5\n",
    "energyJ = energy*JtoeV\n",
    "p = np.exp(-2*L*np.sqrt(2*m*energy)/hbar)\n",
    "p"
   ]
  },
  {
   "cell_type": "code",
   "execution_count": 8,
   "metadata": {},
   "outputs": [
    {
     "data": {
      "text/plain": [
       "6.9827546853975739e-05"
      ]
     },
     "execution_count": 8,
     "metadata": {},
     "output_type": "execute_result"
    }
   ],
   "source": [
    "p*t"
   ]
  },
  {
   "cell_type": "code",
   "execution_count": 9,
   "metadata": {},
   "outputs": [
    {
     "name": "stdout",
     "output_type": "stream",
     "text": [
      "340459.815166\n"
     ]
    }
   ],
   "source": [
    "me = .5109989461 #MeV/c^2\n",
    "E = 9.7e-6 #MeV\n",
    "hbar = 197\n",
    "print(np.sqrt(3*(np.pi**2)*(hbar**2)/(2*me*E)))"
   ]
  },
  {
   "cell_type": "code",
   "execution_count": 10,
   "metadata": {},
   "outputs": [
    {
     "data": {
      "text/plain": [
       "21.68894659922074"
      ]
     },
     "execution_count": 10,
     "metadata": {},
     "output_type": "execute_result"
    }
   ],
   "source": [
    "a = 7.2e9\n",
    "3*(np.pi**2)*(hbar**2)/(2*me*(a**2))*(10**15)"
   ]
  },
  {
   "cell_type": "code",
   "execution_count": 11,
   "metadata": {},
   "outputs": [
    {
     "data": {
      "text/plain": [
       "26.31827956989247"
      ]
     },
     "execution_count": 11,
     "metadata": {},
     "output_type": "execute_result"
    }
   ],
   "source": [
    "w = 4.0e13\n",
    "hbar1 = 197\n",
    "h = 6.62607004e-34\n",
    "hbar2 = h/(2*np.pi)\n",
    "E = hbar1*w/299411668573296.3\n",
    "E"
   ]
  },
  {
   "cell_type": "code",
   "execution_count": 29,
   "metadata": {},
   "outputs": [
    {
     "name": "stdout",
     "output_type": "stream",
     "text": [
      "749570369254.0658 \n",
      "\n",
      "\n",
      "374784.9972345343 \n",
      "\n",
      "\n",
      "2998281477016.263 \n",
      "\n",
      "\n",
      "1499139.9889381372 \n",
      "\n",
      "\n"
     ]
    }
   ],
   "source": [
    "a = 1\n",
    "b = 0.001\n",
    "print(((hbar1**2)*(np.pi**2)/(2*me))*((1**2)/(a**2) + 2*(1**2)/(b**2)),'\\n\\n')\n",
    "print(((hbar1**2)*(np.pi**2)/(2*me))*((1**2)/(a**2)),'\\n\\n')\n",
    "print(((hbar1**2)*(np.pi**2)/(2*me))*((2**2)/(a**2) + 2*(2**2)/(b**2)),'\\n\\n')\n",
    "print(((hbar1**2)*(np.pi**2)/(2*me))*((2**2)/(a**2)),'\\n\\n')\n",
    "\n",
    "\n",
    "\n",
    "\n",
    "\n",
    "\n"
   ]
  },
  {
   "cell_type": "code",
   "execution_count": 1,
   "metadata": {},
   "outputs": [
    {
     "data": {
      "text/plain": [
       "8.105999999999999e-05"
      ]
     },
     "execution_count": 1,
     "metadata": {},
     "output_type": "execute_result"
    }
   ],
   "source": [
    "bohrmagneton = 5.79e-5\n",
    "B = 0.7\n",
    "2*bohrmagneton*B"
   ]
  },
  {
   "cell_type": "code",
   "execution_count": 6,
   "metadata": {},
   "outputs": [
    {
     "data": {
      "text/plain": [
       "8.51470588235294e-06"
      ]
     },
     "execution_count": 6,
     "metadata": {},
     "output_type": "execute_result"
    }
   ],
   "source": [
    "B = 1.5\n",
    "Er = 13.6\n",
    "(4/3)*bohrmagneton*B/Er"
   ]
  },
  {
   "cell_type": "code",
   "execution_count": 10,
   "metadata": {},
   "outputs": [
    {
     "data": {
      "text/plain": [
       "0.015305949896373055"
      ]
     },
     "execution_count": 10,
     "metadata": {},
     "output_type": "execute_result"
    }
   ],
   "source": [
    "c = 3.00e8\n",
    "h = 4.135667662e-15\n",
    "E = 8.106e-5\n",
    "h*c/E"
   ]
  },
  {
   "cell_type": "code",
   "execution_count": 13,
   "metadata": {},
   "outputs": [
    {
     "data": {
      "text/plain": [
       "3.1568175589282557e-08"
      ]
     },
     "execution_count": 13,
     "metadata": {},
     "output_type": "execute_result"
    }
   ],
   "source": [
    "hbar = 6.582119514e-16\n",
    "mp = (938.2720813e6)/(c**2)\n",
    "e = 1\n",
    "mun = 3.1524512550e-8\n",
    "e*hbar/(2*mp)"
   ]
  },
  {
   "cell_type": "code",
   "execution_count": 15,
   "metadata": {},
   "outputs": [
    {
     "data": {
      "text/plain": [
       "1836.665988353244"
      ]
     },
     "execution_count": 15,
     "metadata": {},
     "output_type": "execute_result"
    }
   ],
   "source": [
    "bohrmagneton/mun"
   ]
  },
  {
   "cell_type": "code",
   "execution_count": 16,
   "metadata": {},
   "outputs": [
    {
     "data": {
      "text/plain": [
       "1.7609592710430003e-07"
      ]
     },
     "execution_count": 16,
     "metadata": {},
     "output_type": "execute_result"
    }
   ],
   "source": [
    "mup = 2.793*mun\n",
    "2*mup"
   ]
  },
  {
   "cell_type": "code",
   "execution_count": null,
   "metadata": {
    "collapsed": true
   },
   "outputs": [],
   "source": []
  }
 ],
 "metadata": {
  "kernelspec": {
   "display_name": "Python 3",
   "language": "python",
   "name": "python3"
  },
  "language_info": {
   "codemirror_mode": {
    "name": "ipython",
    "version": 3
   },
   "file_extension": ".py",
   "mimetype": "text/x-python",
   "name": "python",
   "nbconvert_exporter": "python",
   "pygments_lexer": "ipython3",
   "version": "3.6.3"
  }
 },
 "nbformat": 4,
 "nbformat_minor": 2
}
